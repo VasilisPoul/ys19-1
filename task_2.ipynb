{
  "nbformat": 4,
  "nbformat_minor": 0,
  "metadata": {
    "colab": {
      "name": "task_2.ipynb",
      "provenance": [],
      "collapsed_sections": []
    },
    "kernelspec": {
      "name": "python3",
      "display_name": "Python 3"
    }
  },
  "cells": [
    {
      "cell_type": "markdown",
      "metadata": {
        "id": "KWcBNGOKe81F"
      },
      "source": [
        "### Imports"
      ]
    },
    {
      "cell_type": "code",
      "metadata": {
        "id": "v2zsDd9Xe81G"
      },
      "source": [
        "import pandas as pd\n",
        "import numpy as np\n",
        "import gdown\n",
        "from sklearn.model_selection import train_test_split\n",
        "from sklearn.linear_model import SGDClassifier\n",
        "from sklearn.preprocessing import StandardScaler\n",
        "from sklearn.linear_model import SGDRegressor\n",
        "from sklearn.pipeline import make_pipeline, Pipeline\n",
        "from sklearn.preprocessing import StandardScaler\n",
        "from sklearn.linear_model import LinearRegression\n",
        "from matplotlib import pyplot as plt\n",
        "from sklearn.preprocessing import OneHotEncoder\n",
        "from sklearn.compose import ColumnTransformer\n",
        "from sklearn.metrics import mean_squared_error,r2_score\n",
        "from sklearn.impute import SimpleImputer\n",
        "from sklearn import svm\n",
        "from sklearn.model_selection import cross_val_score\n",
        "from sklearn.model_selection import GridSearchCV"
      ],
      "execution_count": 61,
      "outputs": []
    },
    {
      "cell_type": "code",
      "metadata": {
        "id": "B6EtOYcae81K"
      },
      "source": [
        "### Download and read csv"
      ],
      "execution_count": 62,
      "outputs": []
    },
    {
      "cell_type": "code",
      "metadata": {
        "id": "MWk-Cgeje81P",
        "outputId": "71008fa3-e42d-45a9-c2a2-8e94ee00f043",
        "colab": {
          "base_uri": "https://localhost:8080/",
          "height": 103
        }
      },
      "source": [
        "url = \"https://drive.google.com/u/0/uc?id=1VUn2WKkKeRXwH02K9bqH98KjPxrUmgXh&export=download\"\n",
        "filename = \"HousingData.csv\"\n",
        "gdown.download(url, filename, quiet=False)"
      ],
      "execution_count": 63,
      "outputs": [
        {
          "output_type": "stream",
          "text": [
            "Downloading...\n",
            "From: https://drive.google.com/u/0/uc?id=1VUn2WKkKeRXwH02K9bqH98KjPxrUmgXh&export=download\n",
            "To: /content/HousingData.csv\n",
            "100%|██████████| 1.60M/1.60M [00:00<00:00, 133MB/s]\n"
          ],
          "name": "stderr"
        },
        {
          "output_type": "execute_result",
          "data": {
            "application/vnd.google.colaboratory.intrinsic+json": {
              "type": "string"
            },
            "text/plain": [
              "'HousingData.csv'"
            ]
          },
          "metadata": {
            "tags": []
          },
          "execution_count": 63
        }
      ]
    },
    {
      "cell_type": "code",
      "metadata": {
        "id": "uWle83HoVHe2"
      },
      "source": [
        "data = pd.read_csv(\"HousingData.csv\")"
      ],
      "execution_count": 64,
      "outputs": []
    },
    {
      "cell_type": "markdown",
      "metadata": {
        "id": "mM-EKaYRe81Y"
      },
      "source": [
        "### Remove empty entries"
      ]
    },
    {
      "cell_type": "code",
      "metadata": {
        "id": "h-2akn1Me81Y"
      },
      "source": [
        "data.dropna(inplace = True)"
      ],
      "execution_count": 65,
      "outputs": []
    },
    {
      "cell_type": "markdown",
      "metadata": {
        "id": "2KojrDn0e81d"
      },
      "source": [
        "### Prepare X and y\n",
        "- y is Median House Value\n",
        "- X is all the other columns"
      ]
    },
    {
      "cell_type": "code",
      "metadata": {
        "id": "wEs37x24nYg3"
      },
      "source": [
        "y = data[['Median House Value']]\n",
        "X = data[['MedInc', 'HouseAge', 'AveRooms', 'AveBedrms', 'Population', 'AveOccup', 'Latitude', 'Longitude']]"
      ],
      "execution_count": 66,
      "outputs": []
    },
    {
      "cell_type": "markdown",
      "metadata": {
        "id": "Ybddw9doe81i"
      },
      "source": [
        "### Feature Scaling\n",
        "Convert X data in order to make the numerical attributes have the similar scales"
      ]
    },
    {
      "cell_type": "code",
      "metadata": {
        "id": "U3KvevyCe81j"
      },
      "source": [
        "sc = StandardScaler()\n",
        "X = sc.fit_transform(X)"
      ],
      "execution_count": 67,
      "outputs": []
    },
    {
      "cell_type": "code",
      "metadata": {
        "id": "kkhFUPddUCCF"
      },
      "source": [
        "X_train, X_test, y_train, y_test = train_test_split(X, y, test_size=0.28, random_state=42)"
      ],
      "execution_count": 68,
      "outputs": []
    },
    {
      "cell_type": "markdown",
      "metadata": {
        "id": "orPXnOEne81q"
      },
      "source": [
        "### Stochastic Gradient Descent"
      ]
    },
    {
      "cell_type": "code",
      "metadata": {
        "id": "rKma3qlTtgJS"
      },
      "source": [
        "reg =  SGDRegressor(loss='huber', max_iter=1000)"
      ],
      "execution_count": 69,
      "outputs": []
    },
    {
      "cell_type": "markdown",
      "metadata": {
        "id": "54BQHwWEe81u"
      },
      "source": [
        "### Cross Validation Score"
      ]
    },
    {
      "cell_type": "code",
      "metadata": {
        "id": "chMN1Hlxe81v",
        "outputId": "eb1556fe-e113-44c3-d875-f37b49294cd0",
        "colab": {
          "base_uri": "https://localhost:8080/",
          "height": 51
        }
      },
      "source": [
        "%%time\n",
        "\n",
        "score = cross_val_score(reg , X_train, y_train, scoring = \"neg_mean_squared_error\", cv = 10, n_jobs=4)"
      ],
      "execution_count": 70,
      "outputs": [
        {
          "output_type": "stream",
          "text": [
            "CPU times: user 56.2 ms, sys: 8.89 ms, total: 65.1 ms\n",
            "Wall time: 217 ms\n"
          ],
          "name": "stdout"
        }
      ]
    },
    {
      "cell_type": "code",
      "metadata": {
        "id": "MFS2IeMwe81y",
        "outputId": "c3eb8b79-18ee-455e-8bd3-20269aa3a713",
        "colab": {
          "base_uri": "https://localhost:8080/",
          "height": 34
        }
      },
      "source": [
        "tree_rmse_scores = np.sqrt(-score)\n",
        "tree_rmse_scores.mean()"
      ],
      "execution_count": 71,
      "outputs": [
        {
          "output_type": "execute_result",
          "data": {
            "text/plain": [
              "0.7677973900357236"
            ]
          },
          "metadata": {
            "tags": []
          },
          "execution_count": 71
        }
      ]
    },
    {
      "cell_type": "markdown",
      "metadata": {
        "id": "yhohLXnMj8AB"
      },
      "source": [
        " Πραγματοποιείται training για 20 βήματα στην αρχη και μετά αυξάνονται τα βήματα ανά 20 μέχρι να φτάσουμε στα 200 και κάνουμε plot τα Mean Squared Error για τα test data και τα train data. Παρατηρούμε, πως η απόδοση δεν αλλάζει προσθέτοντας instances."
      ]
    },
    {
      "cell_type": "code",
      "metadata": {
        "id": "les--ny9hWIL",
        "outputId": "fbf147ed-ba32-42e2-eced-cde34e8803da",
        "colab": {
          "base_uri": "https://localhost:8080/",
          "height": 656
        }
      },
      "source": [
        "MSE_test = []\n",
        "MSE_train = []\n",
        "for steps_num in range(0,1000,20):\n",
        "    \n",
        "    reg =  SGDRegressor(loss='huber', max_iter=1000)\n",
        "    reg.fit(X_train, y_train)\n",
        "    MSE_test.append(mean_squared_error(y_test, reg.predict(X_test)))\n",
        "    MSE_train.append(mean_squared_error(y_train, reg.predict(X_train))) \n",
        "    \n",
        "\n",
        "plot_data = {\n",
        "    'steps': list(range(10,200,20)),\n",
        "    'MSE_train' : MSE_train,\n",
        "    'MSE_test' : MSE_test\n",
        "}\n",
        "df = pd.DataFrame(plot_data, columns = ['steps', 'MSE_train', 'MSE_test'])\n",
        "df.plot(x=\"steps\")"
      ],
      "execution_count": 72,
      "outputs": [
        {
          "output_type": "stream",
          "text": [
            "/usr/local/lib/python3.6/dist-packages/sklearn/utils/validation.py:760: DataConversionWarning: A column-vector y was passed when a 1d array was expected. Please change the shape of y to (n_samples, ), for example using ravel().\n",
            "  y = column_or_1d(y, warn=True)\n",
            "/usr/local/lib/python3.6/dist-packages/sklearn/utils/validation.py:760: DataConversionWarning: A column-vector y was passed when a 1d array was expected. Please change the shape of y to (n_samples, ), for example using ravel().\n",
            "  y = column_or_1d(y, warn=True)\n",
            "/usr/local/lib/python3.6/dist-packages/sklearn/utils/validation.py:760: DataConversionWarning: A column-vector y was passed when a 1d array was expected. Please change the shape of y to (n_samples, ), for example using ravel().\n",
            "  y = column_or_1d(y, warn=True)\n",
            "/usr/local/lib/python3.6/dist-packages/sklearn/utils/validation.py:760: DataConversionWarning: A column-vector y was passed when a 1d array was expected. Please change the shape of y to (n_samples, ), for example using ravel().\n",
            "  y = column_or_1d(y, warn=True)\n",
            "/usr/local/lib/python3.6/dist-packages/sklearn/utils/validation.py:760: DataConversionWarning: A column-vector y was passed when a 1d array was expected. Please change the shape of y to (n_samples, ), for example using ravel().\n",
            "  y = column_or_1d(y, warn=True)\n",
            "/usr/local/lib/python3.6/dist-packages/sklearn/utils/validation.py:760: DataConversionWarning: A column-vector y was passed when a 1d array was expected. Please change the shape of y to (n_samples, ), for example using ravel().\n",
            "  y = column_or_1d(y, warn=True)\n",
            "/usr/local/lib/python3.6/dist-packages/sklearn/utils/validation.py:760: DataConversionWarning: A column-vector y was passed when a 1d array was expected. Please change the shape of y to (n_samples, ), for example using ravel().\n",
            "  y = column_or_1d(y, warn=True)\n",
            "/usr/local/lib/python3.6/dist-packages/sklearn/utils/validation.py:760: DataConversionWarning: A column-vector y was passed when a 1d array was expected. Please change the shape of y to (n_samples, ), for example using ravel().\n",
            "  y = column_or_1d(y, warn=True)\n",
            "/usr/local/lib/python3.6/dist-packages/sklearn/utils/validation.py:760: DataConversionWarning: A column-vector y was passed when a 1d array was expected. Please change the shape of y to (n_samples, ), for example using ravel().\n",
            "  y = column_or_1d(y, warn=True)\n",
            "/usr/local/lib/python3.6/dist-packages/sklearn/utils/validation.py:760: DataConversionWarning: A column-vector y was passed when a 1d array was expected. Please change the shape of y to (n_samples, ), for example using ravel().\n",
            "  y = column_or_1d(y, warn=True)\n"
          ],
          "name": "stderr"
        },
        {
          "output_type": "execute_result",
          "data": {
            "text/plain": [
              "<matplotlib.axes._subplots.AxesSubplot at 0x7f6355514b00>"
            ]
          },
          "metadata": {
            "tags": []
          },
          "execution_count": 72
        },
        {
          "output_type": "display_data",
          "data": {
            "image/png": "[encoded data removed]",
            "text/plain": [
              "<Figure size 432x288 with 1 Axes>"
            ]
          },
          "metadata": {
            "tags": [],
            "needs_background": "light"
          }
        }
      ]
    },
    {
      "cell_type": "code",
      "metadata": {
        "id": "ym959eRWe818",
        "outputId": "fe02d669-8c12-4b75-a35b-39a24da7c4da",
        "colab": {
          "base_uri": "https://localhost:8080/",
          "height": 34
        }
      },
      "source": [
        "r2_score(y_test, y_pred)"
      ],
      "execution_count": 73,
      "outputs": [
        {
          "output_type": "execute_result",
          "data": {
            "text/plain": [
              "0.5870693178443457"
            ]
          },
          "metadata": {
            "tags": []
          },
          "execution_count": 73
        }
      ]
    },
    {
      "cell_type": "code",
      "metadata": {
        "id": "wWWGOeNeizfE"
      },
      "source": [
        ""
      ],
      "execution_count": 73,
      "outputs": []
    },
    {
      "cell_type": "markdown",
      "metadata": {
        "id": "tTS3O1Cwe82A"
      },
      "source": [
        "### Batch Gradient Descent\n",
        "\n",
        "Αλλάζοντας το **learning rate** σε 0,01 δίνει λίγο καλύτερα **r2 score** (περίπου 0,53 με learning_rate=0.1, 0,59 με learning_rate=0.01)  \n",
        "\n"
      ]
    },
    {
      "cell_type": "code",
      "metadata": {
        "id": "CVuXqwc1uVpG"
      },
      "source": [
        "# function to compute predictions created for the current dataset\n",
        "# where y = w0 + w1*x1 +...+w8*x8 \n",
        "def predict(X, theta):\n",
        "  return np.dot(X, theta[0:8]) + theta[8]\n",
        "  \n",
        "# function to compute gradient of error \n",
        "def gradient(X, y, theta): \n",
        "    h = np.dot(X, theta) \n",
        "    grad = (2/X.shape[0])*np.dot(X.transpose(), (h - y)) \n",
        "    return grad \n",
        "  \n",
        "# function to compute MSE\n",
        "def cost(X, y, theta): \n",
        "    h = np.dot(X, theta) \n",
        "    J = np.dot((h - y).transpose(), (h - y)) \n",
        "    J /= X.shape[0]\n",
        "    return J[0] \n",
        "  \n",
        "# function to perform mini-batch gradient descent\n",
        "def gradientDescent(X, y, learning_rate = 0.1, steps=1000): \n",
        "    X = np.c_[ X, np.ones(X.shape[0]) ] #add a column of ones to X for the bias term\n",
        "    theta = np.zeros((X.shape[1], 1)) #create inital weights w0, w1..wd\n",
        "    error_list = []  \n",
        "    for s in range(steps):\n",
        "      theta = theta - learning_rate * gradient(X, y, theta) \n",
        "      error_list.append(cost(X, y, theta)) #useful for plotting changes when using different batch sizes\n",
        "  \n",
        "    return theta, error_list \n",
        "\n",
        "theta, errors = gradientDescent(X_train, y_train, 0.01)\n",
        "y_pred = predict(X_test, theta)"
      ],
      "execution_count": 74,
      "outputs": []
    },
    {
      "cell_type": "code",
      "metadata": {
        "id": "4B-jbHXQe82F"
      },
      "source": [
        ""
      ],
      "execution_count": 74,
      "outputs": []
    },
    {
      "cell_type": "markdown",
      "metadata": {
        "id": "LzpAbpbZe82J"
      },
      "source": [
        "To **Batch Gradient Descent** παρaτηρούμε πως δίνει καλύτερα score από το **Stochastic Gradient Descent** "
      ]
    },
    {
      "cell_type": "code",
      "metadata": {
        "id": "rWsQzQkTe82J",
        "outputId": "05bbbbb0-f2f2-4b0a-92c0-0780ef6ab947",
        "colab": {
          "base_uri": "https://localhost:8080/",
          "height": 34
        }
      },
      "source": [
        "r2_score(y_test,y_pred)"
      ],
      "execution_count": 75,
      "outputs": [
        {
          "output_type": "execute_result",
          "data": {
            "text/plain": [
              "0.5870693178443457"
            ]
          },
          "metadata": {
            "tags": []
          },
          "execution_count": 75
        }
      ]
    },
    {
      "cell_type": "markdown",
      "metadata": {
        "id": "qz5OKaG8mGHk"
      },
      "source": [
        "Από το παρακάτω διάγραμμα παρατηρούμε πως το Mean Squared Error μειώνεται για τα πρώτα 100 steps περίπου, αλλά μετα δεν υπάρχει κάποια ιδιαίτερη βελτίωση. "
      ]
    },
    {
      "cell_type": "code",
      "metadata": {
        "id": "5XBobV_Ze82N",
        "outputId": "9f017869-427b-424c-8bb4-c3df8fbd1458",
        "colab": {
          "base_uri": "https://localhost:8080/",
          "height": 296
        }
      },
      "source": [
        "MSE_test = []\n",
        "MSE_train = []\n",
        "for steps_num in range(10,200,20):\n",
        "    theta, errors = gradientDescent(X_train, y_train, steps=steps_num)\n",
        "    \n",
        "    \n",
        "    MSE_test.append(mean_squared_error(y_test, predict(X_test, theta)))\n",
        "    MSE_train.append(mean_squared_error(y_train, predict(X_train, theta))) \n",
        "    \n",
        "\n",
        "plot_data = {\n",
        "    'steps': list(range(10,200,20)),\n",
        "    'MSE_train' : MSE_train,\n",
        "    'MSE_test' : MSE_test\n",
        "}\n",
        "df = pd.DataFrame(plot_data, columns = ['steps', 'MSE_train', 'MSE_test'])\n",
        "df.plot(x=\"steps\")"
      ],
      "execution_count": 76,
      "outputs": [
        {
          "output_type": "execute_result",
          "data": {
            "text/plain": [
              "<matplotlib.axes._subplots.AxesSubplot at 0x7f63554f9a90>"
            ]
          },
          "metadata": {
            "tags": []
          },
          "execution_count": 76
        },
        {
          "output_type": "display_data",
          "data": {
            "image/png": "[encoded data removed]",
            "text/plain": [
              "<Figure size 432x288 with 1 Axes>"
            ]
          },
          "metadata": {
            "tags": [],
            "needs_background": "light"
          }
        }
      ]
    },
    {
      "cell_type": "markdown",
      "metadata": {
        "id": "DFn_HD2Qe82S"
      },
      "source": [
        "### Mini Batch Gradient Descent\n",
        "\n",
        "Πρόσθεσα τη συνάρτηση **create_mini_batches** που δημιουργεί κάθε φορά μία λίστα με mini batches για το training και άλλαξα το learning rate κι εδώ σε 0.01\n",
        "\n",
        "Την create_mini_batches ν πήρα από το παρακάτω link:\n",
        "\n",
        "https://www.geeksforgeeks.org/ml-mini-batch-gradient-descent-with-python/"
      ]
    },
    {
      "cell_type": "code",
      "metadata": {
        "id": "H0iMclEje82T"
      },
      "source": [
        "# function to compute predictions created for the current dataset\n",
        "# where y = w0 + w1*x1 +...+w8*x8 \n",
        "def predict(X, theta):\n",
        "  return np.dot(X, theta[0:8]) + theta[8]\n",
        "  \n",
        "# function to compute gradient of error \n",
        "def gradient(X, y, theta): \n",
        "    h = np.dot(X, theta) \n",
        "    grad = (2/X.shape[0])*np.dot(X.transpose(), (h - y)) \n",
        "    return grad \n",
        "  \n",
        "# function to compute MSE\n",
        "def cost(X, y, theta): \n",
        "    h = np.dot(X, theta) \n",
        "    J = np.dot((h - y).transpose(), (h - y)) \n",
        "    J /= X.shape[0]\n",
        "    return J[0] \n",
        " \n",
        "def create_mini_batches(X, y, batch_size): \n",
        "    mini_batches = [] \n",
        "    data = np.hstack((X, y)) \n",
        "    np.random.shuffle(data) \n",
        "    n_minibatches = data.shape[0] // batch_size \n",
        "    i = 0\n",
        "  \n",
        "    for i in range(n_minibatches + 1): \n",
        "        mini_batch = data[i * batch_size:(i + 1)*batch_size, :] \n",
        "        X_mini = mini_batch[:, :-1] \n",
        "        Y_mini = mini_batch[:, -1].reshape((-1, 1)) \n",
        "        mini_batches.append((X_mini, Y_mini)) \n",
        "    if data.shape[0] % batch_size != 0: \n",
        "        mini_batch = data[i * batch_size:data.shape[0]] \n",
        "        X_mini = mini_batch[:, :-1] \n",
        "        Y_mini = mini_batch[:, -1].reshape((-1, 1)) \n",
        "        mini_batches.append((X_mini, Y_mini)) \n",
        "    return mini_batches    \n",
        "  \n",
        "# function to perform mini-batch gradient descent\n",
        "def gradientDescent(X, y, learning_rate = 0.01, steps=1000, mini_batch_size=500): \n",
        "    X = np.c_[ X, np.ones(X.shape[0]) ] #add a column of ones to X for the bias term\n",
        "    theta = np.zeros((X.shape[1], 1)) #create inital weights w0, w1..wd\n",
        "    error_list = [] \n",
        "    counter = 1 \n",
        "    for s in range(steps):\n",
        "      mini_batch_error_list = []\n",
        "      mini_batches = create_mini_batches(X, y, mini_batch_size)\n",
        "      for mini_batch in mini_batches:\n",
        "        X_mini, y_mini = mini_batch\n",
        "        theta = theta - learning_rate * gradient(X_mini, y_mini, theta) \n",
        "        mini_batch_error_list.append(cost(X_mini, y_mini, theta)) #useful for plotting changes when using different batch sizes\n",
        "      counter+=1\n",
        "      error_list.append(sum(mini_batch_error_list) / len(mini_batch_error_list) )\n",
        "    return theta, error_list "
      ],
      "execution_count": 77,
      "outputs": []
    },
    {
      "cell_type": "markdown",
      "metadata": {
        "id": "-urkhuMGmzFV"
      },
      "source": [
        "Στο παρακάτω σχεδιάγραμμα παρατηρούμε, πως πάλι το error μειώνεται δραστικά αλλά στα 50 περίπου βήματα σταματάμε να έχουμε κάποια ιδιαίτερη βελτίωση.\n",
        "Βλέπουμε, πως στο mini batch gradient descent τα φτάνουμε πιο γρήγορα στις καλύτερες τιμές του error απ ότι στο Batch Gradient Descent."
      ]
    },
    {
      "cell_type": "code",
      "metadata": {
        "tags": [],
        "id": "0bA2tDJ-e82X"
      },
      "source": [
        "MSE_test = []\n",
        "MSE_train = []\n",
        "for steps_num in range(10,200,20):\n",
        "    theta, errors = gradientDescent(X_train, y_train, steps=steps_num)\n",
        "    \n",
        "    \n",
        "    MSE_test.append(mean_squared_error(y_test, predict(X_test, theta)))\n",
        "    MSE_train.append(mean_squared_error(y_train, predict(X_train, theta))) \n",
        "    \n"
      ],
      "execution_count": 78,
      "outputs": []
    },
    {
      "cell_type": "code",
      "metadata": {
        "id": "6qfzgGtde82i",
        "outputId": "5335c7d0-0402-490f-cc17-2b1354f8ec5e",
        "colab": {
          "base_uri": "https://localhost:8080/",
          "height": 296
        }
      },
      "source": [
        "plot_data = {\n",
        "    'steps': list(range(10,200,20)),\n",
        "    'MSE_train' : MSE_train,\n",
        "    'MSE_test' : MSE_test\n",
        "}\n",
        "df = pd.DataFrame(plot_data, columns = ['steps', 'MSE_train', 'MSE_test'])\n",
        "df.plot(x=\"steps\")"
      ],
      "execution_count": 80,
      "outputs": [
        {
          "output_type": "execute_result",
          "data": {
            "text/plain": [
              "<matplotlib.axes._subplots.AxesSubplot at 0x7f6355362a20>"
            ]
          },
          "metadata": {
            "tags": []
          },
          "execution_count": 80
        },
        {
          "output_type": "display_data",
          "data": {
            "image/png": "[encoded data removed]",
            "text/plain": [
              "<Figure size 432x288 with 1 Axes>"
            ]
          },
          "metadata": {
            "tags": [],
            "needs_background": "light"
          }
        }
      ]
    },
    {
      "cell_type": "markdown",
      "metadata": {
        "id": "cQzb3kOfe82l"
      },
      "source": [
        "To Mini **Batch Gradient Descent** δίνει τα καλύτερα score από τις τρεις προσεγγίσεις (**Stochastic**, **Batch**, **Mini Batch**)"
      ]
    },
    {
      "cell_type": "code",
      "metadata": {
        "id": "V5xwDCTSe82m",
        "outputId": "1f278731-c8d9-475a-8d50-77959ae9b989",
        "colab": {
          "base_uri": "https://localhost:8080/",
          "height": 34
        }
      },
      "source": [
        "r2_score(y_test,y_pred)"
      ],
      "execution_count": 81,
      "outputs": [
        {
          "output_type": "execute_result",
          "data": {
            "text/plain": [
              "0.5870693178443457"
            ]
          },
          "metadata": {
            "tags": []
          },
          "execution_count": 81
        }
      ]
    }
  ]
}