{
  "nbformat": 4,
  "nbformat_minor": 0,
  "metadata": {
    "colab": {
      "name": "task_2.ipynb",
      "provenance": [],
      "collapsed_sections": []
    },
    "kernelspec": {
      "name": "python3",
      "display_name": "Python 3"
    }
  },
  "cells": [
    {
      "source": [
        "### Imports"
      ],
      "cell_type": "markdown",
      "metadata": {}
    },
    {
      "cell_type": "code",
      "metadata": {
        "id": "PKUQgBeCfieI"
      },
      "source": [
        "import pandas as pd\n",
        "import numpy as np\n",
        "import gdown\n",
        "from sklearn.model_selection import train_test_split\n",
        "from sklearn.linear_model import SGDClassifier\n",
        "from sklearn.preprocessing import StandardScaler\n",
        "from sklearn.linear_model import SGDRegressor\n",
        "from sklearn.pipeline import make_pipeline, Pipeline\n",
        "from sklearn.preprocessing import StandardScaler\n",
        "from sklearn.linear_model import LinearRegression\n",
        "from matplotlib import pyplot as plt\n",
        "from sklearn.preprocessing import OneHotEncoder\n",
        "from sklearn.compose import ColumnTransformer\n",
        "from sklearn.metrics import mean_squared_error\n",
        "from sklearn.impute import SimpleImputer\n",
        "from sklearn import svm\n",
        "from sklearn.model_selection import cross_val_score\n",
        "from sklearn.model_selection import GridSearchCV"
      ],
      "execution_count": 94,
      "outputs": []
    },
    {
      "source": [
        "### Download and read csv"
      ],
      "cell_type": "markdown",
      "metadata": {}
    },
    {
      "cell_type": "code",
      "execution_count": 95,
      "metadata": {},
      "outputs": [
        {
          "output_type": "stream",
          "name": "stderr",
          "text": [
            "Downloading...\n",
            "From: https://drive.google.com/u/0/uc?id=1VUn2WKkKeRXwH02K9bqH98KjPxrUmgXh&export=download\n",
            "To: /home/vasilis/projects/ai2-1st-assignement/HousingData.csv\n",
            "100%|██████████| 1.60M/1.60M [00:00<00:00, 2.22MB/s]\n"
          ]
        },
        {
          "output_type": "execute_result",
          "data": {
            "text/plain": [
              "'HousingData.csv'"
            ]
          },
          "metadata": {},
          "execution_count": 95
        }
      ],
      "source": [
        "url = \"https://drive.google.com/u/0/uc?id=1VUn2WKkKeRXwH02K9bqH98KjPxrUmgXh&export=download\"\n",
        "filename = \"HousingData.csv\"\n",
        "gdown.download(url, filename, quiet=False)"
      ]
    },
    {
      "cell_type": "code",
      "metadata": {
        "id": "uWle83HoVHe2"
      },
      "source": [
        "data = pd.read_csv(\"HousingData.csv\")"
      ],
      "execution_count": 97,
      "outputs": []
    },
    {
      "cell_type": "code",
      "metadata": {
        "id": "wEs37x24nYg3"
      },
      "source": [
        "# data['Bedrooms Per Room'] = data['AveRooms'] / data['AveBedrms']\n",
        "# data['Occup Per Population'] = data['Population'] / data['AveOccup']\n",
        "\n",
        "y = data['Median House Value']\n",
        "X = data.drop('Median House Value', axis = 1)"
      ],
      "execution_count": 98,
      "outputs": []
    },
    {
      "cell_type": "code",
      "metadata": {
        "id": "kkhFUPddUCCF"
      },
      "source": [
        "X_train, X_test, y_train, y_test = train_test_split(X, y, test_size=0.28, random_state=42)\n"
      ],
      "execution_count": 99,
      "outputs": []
    },
    {
      "source": [
        "### Batch Gradient Descent"
      ],
      "cell_type": "markdown",
      "metadata": {}
    },
    {
      "cell_type": "code",
      "metadata": {
        "id": "rKma3qlTtgJS"
      },
      "source": [
        "reg = make_pipeline(StandardScaler(), SGDRegressor(loss='huber', penalty='l1', warm_start =  True, max_iter=1000, tol=1e-3))"
      ],
      "execution_count": 100,
      "outputs": []
    },
    {
      "source": [
        "### Cross Validation Score"
      ],
      "cell_type": "markdown",
      "metadata": {}
    },
    {
      "cell_type": "code",
      "execution_count": 101,
      "metadata": {},
      "outputs": [
        {
          "output_type": "stream",
          "name": "stdout",
          "text": [
            "CPU times: user 42.6 ms, sys: 67.3 ms, total: 110 ms\nWall time: 2.87 s\n"
          ]
        }
      ],
      "source": [
        "%%time\n",
        "\n",
        "score = cross_val_score(reg , X_train, y_train, scoring = \"neg_mean_squared_error\", cv = 10, n_jobs=4)"
      ]
    },
    {
      "cell_type": "code",
      "execution_count": 102,
      "metadata": {},
      "outputs": [
        {
          "output_type": "execute_result",
          "data": {
            "text/plain": [
              "1.0604019728812613"
            ]
          },
          "metadata": {},
          "execution_count": 102
        }
      ],
      "source": [
        "tree_rmse_scores = np.sqrt(-score)\n",
        "tree_rmse_scores.mean()"
      ]
    },
    {
      "cell_type": "code",
      "execution_count": 103,
      "metadata": {},
      "outputs": [],
      "source": [
        "reg.fit(X_train, y_train)\n",
        "\n",
        "y_pred = reg.predict(X_test)"
      ]
    },
    {
      "cell_type": "code",
      "execution_count": 104,
      "metadata": {},
      "outputs": [
        {
          "output_type": "execute_result",
          "data": {
            "text/plain": [
              "0.8132625259168083"
            ]
          },
          "metadata": {},
          "execution_count": 104
        }
      ],
      "source": [
        "mean_squared_error(y_test,y_pred,squared=True)"
      ]
    },
    {
      "source": [
        "### Stochastic Gradient Descent"
      ],
      "cell_type": "markdown",
      "metadata": {}
    },
    {
      "cell_type": "code",
      "execution_count": 105,
      "metadata": {},
      "outputs": [],
      "source": [
        "# Stochastic Gradient Descent\n",
        "reg = make_pipeline(StandardScaler(), SGDRegressor(loss='epsilon_insensitive', max_iter=1, penalty='elasticnet', tol=1e-3))"
      ]
    },
    {
      "cell_type": "code",
      "execution_count": 106,
      "metadata": {},
      "outputs": [
        {
          "output_type": "stream",
          "name": "stdout",
          "text": [
            "CPU times: user 65.6 ms, sys: 22.1 ms, total: 87.7 ms\nWall time: 217 ms\n"
          ]
        }
      ],
      "source": [
        "%%time\n",
        "\n",
        "score = cross_val_score(reg , X_train, y_train, scoring = \"neg_mean_squared_error\", cv = 10, n_jobs=4)"
      ]
    },
    {
      "cell_type": "code",
      "execution_count": 107,
      "metadata": {},
      "outputs": [
        {
          "output_type": "execute_result",
          "data": {
            "text/plain": [
              "1.082600478376293"
            ]
          },
          "metadata": {},
          "execution_count": 107
        }
      ],
      "source": [
        "tree_rmse_scores = np.sqrt(-score)\n",
        "tree_rmse_scores.mean()"
      ]
    },
    {
      "cell_type": "code",
      "execution_count": 108,
      "metadata": {},
      "outputs": [],
      "source": [
        "reg.fit(X_train, y_train)\n",
        "\n",
        "y_pred = reg.predict(X_test)"
      ]
    },
    {
      "cell_type": "code",
      "execution_count": 109,
      "metadata": {},
      "outputs": [
        {
          "output_type": "execute_result",
          "data": {
            "text/plain": [
              "1.4288836194533434"
            ]
          },
          "metadata": {},
          "execution_count": 109
        }
      ],
      "source": [
        "mean_squared_error(y_test,y_pred,squared=True)"
      ]
    },
    {
      "source": [
        "### Mini Batch "
      ],
      "cell_type": "markdown",
      "metadata": {}
    },
    {
      "cell_type": "code",
      "metadata": {
        "id": "CVuXqwc1uVpG",
        "outputId": "264903d2-e2b9-440d-8565-fcb7a15acaf7",
        "colab": {
          "base_uri": "https://localhost:8080/",
          "height": 391
        }
      },
      "source": [
        "# function to compute predictions created for the current dataset\n",
        "# where y = w0 + w1*x1 +...+w8*x8 \n",
        "def predict(X, theta):\n",
        "  pred = np.dot(X, theta[0:9]) + theta[9]\n",
        "  \n",
        "# function to compute gradient of error \n",
        "def gradient(X, y, theta): \n",
        "    y = y.to_numpy().reshape((len(y), 1))\n",
        "    h = np.dot(X, theta) \n",
        "    grad = (2/X.shape[0])*np.dot(X.transpose(), (h - y)) \n",
        "    return grad \n",
        "  \n",
        "# function to compute MSE\n",
        "def cost(X, y, theta): \n",
        "    y = y.to_numpy().reshape((len(y), 1))\n",
        "    h = np.dot(X, theta) \n",
        "    J = np.dot((h - y).transpose(), (h - y)) \n",
        "    J /= X.shape[0]\n",
        "    return J[0] \n",
        "  \n",
        "# function to perform mini-batch gradient descent\n",
        "def gradientDescent(X, y, learning_rate = 0.1, steps=10): \n",
        "    X = np.c_[ X, np.ones(X.shape[0]) ] #add a column of ones to X for the bias term\n",
        "    theta = np.zeros((X.shape[1], 1)) #create inital weights w0, w1..wd\n",
        "    error_list = []  \n",
        "    for s in range(steps):\n",
        "      theta = theta - learning_rate * gradient(X, y, theta) \n",
        "      error_list.append(cost(X, y, theta)) #useful for plotting changes when using different batch sizes\n",
        "  \n",
        "    return theta, error_list \n",
        "\n",
        "\n",
        "\n",
        "theta, errors = gradientDescent(X_train, y_train)\n",
        "# cost_ = cost(X_train, y_train, theta)\n",
        "predict(X_test, theta)\n",
        "errors\n"
      ],
      "execution_count": 116,
      "outputs": [
        {
          "output_type": "execute_result",
          "data": {
            "text/plain": [
              "[array([1.10600692e+15]),\n",
              " array([3.82597244e+29]),\n",
              " array([1.32354255e+44]),\n",
              " array([4.57861349e+58]),\n",
              " array([1.58390839e+73]),\n",
              " array([5.4793133e+87]),\n",
              " array([1.8954931e+102]),\n",
              " array([6.55719779e+116]),\n",
              " array([2.26837242e+131]),\n",
              " array([7.84712254e+145])]"
            ]
          },
          "metadata": {},
          "execution_count": 116
        }
      ]
    },
    {
      "cell_type": "code",
      "execution_count": null,
      "metadata": {},
      "outputs": [],
      "source": []
    }
  ]
}