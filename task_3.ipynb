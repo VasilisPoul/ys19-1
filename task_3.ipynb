{
 "metadata": {
  "language_info": {
   "codemirror_mode": {
    "name": "ipython",
    "version": 3
   },
   "file_extension": ".py",
   "mimetype": "text/x-python",
   "name": "python",
   "nbconvert_exporter": "python",
   "pygments_lexer": "ipython3",
   "version": "3.8.5-final"
  },
  "orig_nbformat": 2,
  "kernelspec": {
   "name": "Python 3.8.5 64-bit",
   "display_name": "Python 3.8.5 64-bit",
   "metadata": {
    "interpreter": {
     "hash": "31f2aee4e71d21fbe5cf8b01ff0e069b9275f58929596ceb00d14d90e3e16cd6"
    }
   }
  }
 },
 "nbformat": 4,
 "nbformat_minor": 2,
 "cells": [
  {
   "source": [
    "### Imports"
   ],
   "cell_type": "markdown",
   "metadata": {}
  },
  {
   "cell_type": "code",
   "execution_count": 143,
   "metadata": {},
   "outputs": [],
   "source": [
    "import re\n",
    "import pandas as pd\n",
    "import numpy as np\n",
    "import spacy\n",
    "from spacy.lang.en.stop_words import STOP_WORDS as stopwords\n",
    "from sklearn.feature_extraction.text import TfidfVectorizer\n",
    "from sklearn.feature_extraction.text import CountVectorizer\n",
    "from sklearn.model_selection import train_test_split\n",
    "from sklearn.linear_model import LogisticRegression\n",
    "from sklearn.model_selection import cross_val_score\n",
    "from sklearn.metrics import classification_report"
   ]
  },
  {
   "source": [
    "### Read Dataset"
   ],
   "cell_type": "markdown",
   "metadata": {}
  },
  {
   "cell_type": "code",
   "execution_count": 126,
   "metadata": {},
   "outputs": [
    {
     "output_type": "execute_result",
     "data": {
      "text/plain": [
       "         Unnamed: 0  target          id                          date  \\\n",
       "0            680949       0  2249621587  Fri Jun 19 22:41:08 PDT 2009   \n",
       "1            406741       0  2059003515  Sat Jun 06 16:03:21 PDT 2009   \n",
       "2           1337108       4  2017466467  Wed Jun 03 08:26:14 PDT 2009   \n",
       "3           1560887       4  2186457254  Mon Jun 15 18:52:04 PDT 2009   \n",
       "4           1466295       4  2064458395  Sun Jun 07 06:19:20 PDT 2009   \n",
       "...             ...     ...         ...                           ...   \n",
       "1279995     1385192       4  2052726925  Sat Jun 06 01:47:15 PDT 2009   \n",
       "1279996      959516       4  1826067266  Sun May 17 07:37:27 PDT 2009   \n",
       "1279997      487538       0  2182169058  Mon Jun 15 12:48:49 PDT 2009   \n",
       "1279998     1575924       4  2189468574  Tue Jun 16 00:06:04 PDT 2009   \n",
       "1279999      154655       0  1933220592  Tue May 26 23:18:52 PDT 2009   \n",
       "\n",
       "             flag         user  \\\n",
       "0        NO_QUERY  sukumarpant   \n",
       "1        NO_QUERY   MTMSparrow   \n",
       "2        NO_QUERY    itsmemcee   \n",
       "3        NO_QUERY   jdfreivald   \n",
       "4        NO_QUERY     CrazyHan   \n",
       "...           ...          ...   \n",
       "1279995  NO_QUERY       may_oo   \n",
       "1279996  NO_QUERY       paisss   \n",
       "1279997  NO_QUERY  MayerBabe09   \n",
       "1279998  NO_QUERY       omwayo   \n",
       "1279999  NO_QUERY     MsSunniD   \n",
       "\n",
       "                                                      text  \n",
       "0                                      #brokenpromises...   \n",
       "1        David Carradine  so sad. Thai's law not sure i...  \n",
       "2          A @ 415 B @ 425. Tell your bro i say congrats!   \n",
       "3                                @littlefluffycat  Indeed.  \n",
       "4        Completed Race 4 Life in 58mins with girlies f...  \n",
       "...                                                    ...  \n",
       "1279995  @zawhtutwin watching cartoon and cry? oh i do ...  \n",
       "1279996                               is eating mcdonalds   \n",
       "1279997  @BestSoyLatte So sorry to hear about your car....  \n",
       "1279998  @leesherry you have done what you could. Forgi...  \n",
       "1279999            i should b sleepin  i hate 8am's!!!!!!!  \n",
       "\n",
       "[1280000 rows x 7 columns]"
      ],
      "text/html": "<div>\n<style scoped>\n    .dataframe tbody tr th:only-of-type {\n        vertical-align: middle;\n    }\n\n    .dataframe tbody tr th {\n        vertical-align: top;\n    }\n\n    .dataframe thead th {\n        text-align: right;\n    }\n</style>\n<table border=\"1\" class=\"dataframe\">\n  <thead>\n    <tr style=\"text-align: right;\">\n      <th></th>\n      <th>Unnamed: 0</th>\n      <th>target</th>\n      <th>id</th>\n      <th>date</th>\n      <th>flag</th>\n      <th>user</th>\n      <th>text</th>\n    </tr>\n  </thead>\n  <tbody>\n    <tr>\n      <th>0</th>\n      <td>680949</td>\n      <td>0</td>\n      <td>2249621587</td>\n      <td>Fri Jun 19 22:41:08 PDT 2009</td>\n      <td>NO_QUERY</td>\n      <td>sukumarpant</td>\n      <td>#brokenpromises...</td>\n    </tr>\n    <tr>\n      <th>1</th>\n      <td>406741</td>\n      <td>0</td>\n      <td>2059003515</td>\n      <td>Sat Jun 06 16:03:21 PDT 2009</td>\n      <td>NO_QUERY</td>\n      <td>MTMSparrow</td>\n      <td>David Carradine  so sad. Thai's law not sure i...</td>\n    </tr>\n    <tr>\n      <th>2</th>\n      <td>1337108</td>\n      <td>4</td>\n      <td>2017466467</td>\n      <td>Wed Jun 03 08:26:14 PDT 2009</td>\n      <td>NO_QUERY</td>\n      <td>itsmemcee</td>\n      <td>A @ 415 B @ 425. Tell your bro i say congrats!</td>\n    </tr>\n    <tr>\n      <th>3</th>\n      <td>1560887</td>\n      <td>4</td>\n      <td>2186457254</td>\n      <td>Mon Jun 15 18:52:04 PDT 2009</td>\n      <td>NO_QUERY</td>\n      <td>jdfreivald</td>\n      <td>@littlefluffycat  Indeed.</td>\n    </tr>\n    <tr>\n      <th>4</th>\n      <td>1466295</td>\n      <td>4</td>\n      <td>2064458395</td>\n      <td>Sun Jun 07 06:19:20 PDT 2009</td>\n      <td>NO_QUERY</td>\n      <td>CrazyHan</td>\n      <td>Completed Race 4 Life in 58mins with girlies f...</td>\n    </tr>\n    <tr>\n      <th>...</th>\n      <td>...</td>\n      <td>...</td>\n      <td>...</td>\n      <td>...</td>\n      <td>...</td>\n      <td>...</td>\n      <td>...</td>\n    </tr>\n    <tr>\n      <th>1279995</th>\n      <td>1385192</td>\n      <td>4</td>\n      <td>2052726925</td>\n      <td>Sat Jun 06 01:47:15 PDT 2009</td>\n      <td>NO_QUERY</td>\n      <td>may_oo</td>\n      <td>@zawhtutwin watching cartoon and cry? oh i do ...</td>\n    </tr>\n    <tr>\n      <th>1279996</th>\n      <td>959516</td>\n      <td>4</td>\n      <td>1826067266</td>\n      <td>Sun May 17 07:37:27 PDT 2009</td>\n      <td>NO_QUERY</td>\n      <td>paisss</td>\n      <td>is eating mcdonalds</td>\n    </tr>\n    <tr>\n      <th>1279997</th>\n      <td>487538</td>\n      <td>0</td>\n      <td>2182169058</td>\n      <td>Mon Jun 15 12:48:49 PDT 2009</td>\n      <td>NO_QUERY</td>\n      <td>MayerBabe09</td>\n      <td>@BestSoyLatte So sorry to hear about your car....</td>\n    </tr>\n    <tr>\n      <th>1279998</th>\n      <td>1575924</td>\n      <td>4</td>\n      <td>2189468574</td>\n      <td>Tue Jun 16 00:06:04 PDT 2009</td>\n      <td>NO_QUERY</td>\n      <td>omwayo</td>\n      <td>@leesherry you have done what you could. Forgi...</td>\n    </tr>\n    <tr>\n      <th>1279999</th>\n      <td>154655</td>\n      <td>0</td>\n      <td>1933220592</td>\n      <td>Tue May 26 23:18:52 PDT 2009</td>\n      <td>NO_QUERY</td>\n      <td>MsSunniD</td>\n      <td>i should b sleepin  i hate 8am's!!!!!!!</td>\n    </tr>\n  </tbody>\n</table>\n<p>1280000 rows × 7 columns</p>\n</div>"
     },
     "metadata": {},
     "execution_count": 126
    }
   ],
   "source": [
    "data = pd.read_csv(\"SentimentTweets.csv\")\n",
    "data['target'].unique()\n",
    "\n",
    "\n",
    "data.dropna(inplace = True)"
   ]
  },
  {
   "source": [
    "### Split data"
   ],
   "cell_type": "markdown",
   "metadata": {}
  },
  {
   "cell_type": "code",
   "execution_count": 127,
   "metadata": {},
   "outputs": [],
   "source": [
    "train = data.iloc[:64000]\n",
    "test = data.iloc[64000:]"
   ]
  },
  {
   "source": [
    "### Convert every char to lowercase"
   ],
   "cell_type": "markdown",
   "metadata": {}
  },
  {
   "cell_type": "code",
   "execution_count": 142,
   "metadata": {},
   "outputs": [],
   "source": [
    "train['text'] = train['text'].apply(lambda x: str(x).lower())"
   ]
  },
  {
   "source": [
    "### Remove Special Chars"
   ],
   "cell_type": "markdown",
   "metadata": {}
  },
  {
   "cell_type": "code",
   "execution_count": null,
   "metadata": {},
   "outputs": [],
   "source": []
  },
  {
   "cell_type": "code",
   "execution_count": 129,
   "metadata": {},
   "outputs": [],
   "source": [
    "# def RemoveSpecialChars(x):\n",
    "#     x = re.sub(r'[^\\w]+', \"\", x)\n",
    "#     x = ' '.join(x.split())\n",
    "#     return x\n",
    "\n",
    "# train['text'] = train['text'].apply(lambda x: RemoveSpecialChars(x))\n",
    "\n",
    "# train['text']"
   ]
  },
  {
   "cell_type": "code",
   "execution_count": 141,
   "metadata": {},
   "outputs": [],
   "source": [
    "X = train['text']\n",
    "y = train['target']\n",
    "\n",
    "X_train, X_test, y_train, y_test = train_test_split(X, y, test_size = 0.2, random_state = 4, stratify = y)"
   ]
  },
  {
   "cell_type": "code",
   "execution_count": 131,
   "metadata": {},
   "outputs": [],
   "source": [
    "tfidf = TfidfVectorizer()\n",
    "counv = CountVectorizer()"
   ]
  },
  {
   "cell_type": "code",
   "execution_count": 132,
   "metadata": {},
   "outputs": [],
   "source": [
    "X_train = tfidf.fit_transform(X_train)\n",
    "# tfidf.get_feature_names()"
   ]
  },
  {
   "cell_type": "code",
   "execution_count": 133,
   "metadata": {},
   "outputs": [],
   "source": [
    "clf = LogisticRegression()"
   ]
  },
  {
   "cell_type": "code",
   "execution_count": 134,
   "metadata": {},
   "outputs": [
    {
     "output_type": "stream",
     "name": "stdout",
     "text": [
      "CPU times: user 68.1 ms, sys: 32.1 ms, total: 100 ms\nWall time: 19.8 s\n"
     ]
    }
   ],
   "source": [
    "%%time\n",
    "\n",
    "scores = cross_val_score(clf, X_train, y_train, cv = 10, n_jobs = 4)\n",
    "\n",
    "\n",
    "# y_train"
   ]
  },
  {
   "cell_type": "code",
   "execution_count": 135,
   "metadata": {},
   "outputs": [
    {
     "output_type": "execute_result",
     "data": {
      "text/plain": [
       "array([0.77734375, 0.77539062, 0.77558594, 0.77246094, 0.77675781,\n",
       "       0.775     , 0.76972656, 0.77695313, 0.77050781, 0.77929688])"
      ]
     },
     "metadata": {},
     "execution_count": 135
    }
   ],
   "source": [
    "scores"
   ]
  },
  {
   "cell_type": "code",
   "execution_count": 136,
   "metadata": {},
   "outputs": [
    {
     "output_type": "execute_result",
     "data": {
      "text/plain": [
       "0.77490234375"
      ]
     },
     "metadata": {},
     "execution_count": 136
    }
   ],
   "source": [
    "scores.mean()"
   ]
  },
  {
   "cell_type": "code",
   "execution_count": 137,
   "metadata": {},
   "outputs": [
    {
     "output_type": "execute_result",
     "data": {
      "text/plain": [
       "LogisticRegression()"
      ]
     },
     "metadata": {},
     "execution_count": 137
    }
   ],
   "source": [
    "clf.fit(X_train, y_train)"
   ]
  },
  {
   "cell_type": "code",
   "execution_count": 138,
   "metadata": {},
   "outputs": [],
   "source": [
    "y_pred = clf.predict(tfidf.transform(X_test))"
   ]
  },
  {
   "cell_type": "code",
   "execution_count": 139,
   "metadata": {},
   "outputs": [
    {
     "output_type": "stream",
     "name": "stdout",
     "text": [
      "              precision    recall  f1-score   support\n\n           0       0.78      0.78      0.78      6349\n           4       0.79      0.79      0.79      6451\n\n    accuracy                           0.78     12800\n   macro avg       0.78      0.78      0.78     12800\nweighted avg       0.78      0.78      0.78     12800\n\n"
     ]
    }
   ],
   "source": [
    "print(classification_report(y_test, y_pred))"
   ]
  },
  {
   "cell_type": "code",
   "execution_count": 140,
   "metadata": {},
   "outputs": [
    {
     "output_type": "error",
     "ename": "OSError",
     "evalue": "[E050] Can't find model 'en_core_web_lg'. It doesn't seem to be a shortcut link, a Python package or a valid path to a data directory.",
     "traceback": [
      "\u001b[0;31m---------------------------------------------------------------------------\u001b[0m",
      "\u001b[0;31mOSError\u001b[0m                                   Traceback (most recent call last)",
      "\u001b[0;32m<ipython-input-140-ceb8f64bba80>\u001b[0m in \u001b[0;36m<module>\u001b[0;34m\u001b[0m\n\u001b[0;32m----> 1\u001b[0;31m \u001b[0mnlp\u001b[0m \u001b[0;34m=\u001b[0m \u001b[0mspacy\u001b[0m\u001b[0;34m.\u001b[0m\u001b[0mload\u001b[0m\u001b[0;34m(\u001b[0m\u001b[0;34m'en_core_web_lg'\u001b[0m\u001b[0;34m)\u001b[0m\u001b[0;34m\u001b[0m\u001b[0;34m\u001b[0m\u001b[0m\n\u001b[0m",
      "\u001b[0;32m~/.local/lib/python3.8/site-packages/spacy/__init__.py\u001b[0m in \u001b[0;36mload\u001b[0;34m(name, **overrides)\u001b[0m\n\u001b[1;32m     28\u001b[0m     \u001b[0;32mif\u001b[0m \u001b[0mdepr_path\u001b[0m \u001b[0;32mnot\u001b[0m \u001b[0;32min\u001b[0m \u001b[0;34m(\u001b[0m\u001b[0;32mTrue\u001b[0m\u001b[0;34m,\u001b[0m \u001b[0;32mFalse\u001b[0m\u001b[0;34m,\u001b[0m \u001b[0;32mNone\u001b[0m\u001b[0;34m)\u001b[0m\u001b[0;34m:\u001b[0m\u001b[0;34m\u001b[0m\u001b[0;34m\u001b[0m\u001b[0m\n\u001b[1;32m     29\u001b[0m         \u001b[0mwarnings\u001b[0m\u001b[0;34m.\u001b[0m\u001b[0mwarn\u001b[0m\u001b[0;34m(\u001b[0m\u001b[0mWarnings\u001b[0m\u001b[0;34m.\u001b[0m\u001b[0mW001\u001b[0m\u001b[0;34m.\u001b[0m\u001b[0mformat\u001b[0m\u001b[0;34m(\u001b[0m\u001b[0mpath\u001b[0m\u001b[0;34m=\u001b[0m\u001b[0mdepr_path\u001b[0m\u001b[0;34m)\u001b[0m\u001b[0;34m,\u001b[0m \u001b[0mDeprecationWarning\u001b[0m\u001b[0;34m)\u001b[0m\u001b[0;34m\u001b[0m\u001b[0;34m\u001b[0m\u001b[0m\n\u001b[0;32m---> 30\u001b[0;31m     \u001b[0;32mreturn\u001b[0m \u001b[0mutil\u001b[0m\u001b[0;34m.\u001b[0m\u001b[0mload_model\u001b[0m\u001b[0;34m(\u001b[0m\u001b[0mname\u001b[0m\u001b[0;34m,\u001b[0m \u001b[0;34m**\u001b[0m\u001b[0moverrides\u001b[0m\u001b[0;34m)\u001b[0m\u001b[0;34m\u001b[0m\u001b[0;34m\u001b[0m\u001b[0m\n\u001b[0m\u001b[1;32m     31\u001b[0m \u001b[0;34m\u001b[0m\u001b[0m\n\u001b[1;32m     32\u001b[0m \u001b[0;34m\u001b[0m\u001b[0m\n",
      "\u001b[0;32m~/.local/lib/python3.8/site-packages/spacy/util.py\u001b[0m in \u001b[0;36mload_model\u001b[0;34m(name, **overrides)\u001b[0m\n\u001b[1;32m    173\u001b[0m     \u001b[0;32melif\u001b[0m \u001b[0mhasattr\u001b[0m\u001b[0;34m(\u001b[0m\u001b[0mname\u001b[0m\u001b[0;34m,\u001b[0m \u001b[0;34m\"exists\"\u001b[0m\u001b[0;34m)\u001b[0m\u001b[0;34m:\u001b[0m  \u001b[0;31m# Path or Path-like to model data\u001b[0m\u001b[0;34m\u001b[0m\u001b[0;34m\u001b[0m\u001b[0m\n\u001b[1;32m    174\u001b[0m         \u001b[0;32mreturn\u001b[0m \u001b[0mload_model_from_path\u001b[0m\u001b[0;34m(\u001b[0m\u001b[0mname\u001b[0m\u001b[0;34m,\u001b[0m \u001b[0;34m**\u001b[0m\u001b[0moverrides\u001b[0m\u001b[0;34m)\u001b[0m\u001b[0;34m\u001b[0m\u001b[0;34m\u001b[0m\u001b[0m\n\u001b[0;32m--> 175\u001b[0;31m     \u001b[0;32mraise\u001b[0m \u001b[0mIOError\u001b[0m\u001b[0;34m(\u001b[0m\u001b[0mErrors\u001b[0m\u001b[0;34m.\u001b[0m\u001b[0mE050\u001b[0m\u001b[0;34m.\u001b[0m\u001b[0mformat\u001b[0m\u001b[0;34m(\u001b[0m\u001b[0mname\u001b[0m\u001b[0;34m=\u001b[0m\u001b[0mname\u001b[0m\u001b[0;34m)\u001b[0m\u001b[0;34m)\u001b[0m\u001b[0;34m\u001b[0m\u001b[0;34m\u001b[0m\u001b[0m\n\u001b[0m\u001b[1;32m    176\u001b[0m \u001b[0;34m\u001b[0m\u001b[0m\n\u001b[1;32m    177\u001b[0m \u001b[0;34m\u001b[0m\u001b[0m\n",
      "\u001b[0;31mOSError\u001b[0m: [E050] Can't find model 'en_core_web_lg'. It doesn't seem to be a shortcut link, a Python package or a valid path to a data directory."
     ]
    }
   ],
   "source": [
    "nlp = spacy.load('en_core_web_lg')"
   ]
  }
 ]
}